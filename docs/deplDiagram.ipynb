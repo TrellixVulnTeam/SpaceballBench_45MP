{
 "cells": [
  {
   "cell_type": "code",
   "execution_count": 2,
   "metadata": {
    "collapsed": true
   },
   "outputs": [],
   "source": [
    "import plantuml\n",
    "from IPython.display import SVG, display\n",
    "import requests\n",
    "\n",
    "\n",
    "def show_plant(txt):\n",
    "    plnt_txt = plantuml.deflate_and_encode(txt)\n",
    "    uri = \"http://www.plantuml.com/plantuml/svg/\" + plnt_txt\n",
    "    htmldata = requests.get(uri)\n",
    "    svg_txt = htmldata.text\n",
    "    style_idx = svg_txt.find(\"style=\") + len(\"style=\") + 1\n",
    "    svg_txt = svg_txt[:style_idx]+\"background-color: white;\"+svg_txt[style_idx:]\n",
    "    display(SVG(svg_txt))"
   ]
  },
  {
   "cell_type": "code",
   "execution_count": 108,
   "outputs": [
    {
     "data": {
      "text/plain": "<IPython.core.display.SVG object>",
      "image/svg+xml": "<svg xmlns=\"http://www.w3.org/2000/svg\" xmlns:xlink=\"http://www.w3.org/1999/xlink\" contentScriptType=\"application/ecmascript\" contentStyleType=\"text/css\" height=\"724px\" preserveAspectRatio=\"none\" style=\"background-color: white;width:729px;height:724px;\" version=\"1.1\" viewBox=\"0 0 729 724\" width=\"729px\" zoomAndPan=\"magnify\"><defs><linearGradient id=\"g1tm8r7w7fa5mm0\" x1=\"0%\" x2=\"100%\" y1=\"0%\" y2=\"100%\"><stop offset=\"0%\" stop-color=\"#FFFFFF\"/><stop offset=\"100%\" stop-color=\"#FFFFFF\"/></linearGradient></defs><g><text fill=\"#000000\" font-family=\"sans-serif\" font-size=\"18\" lengthAdjust=\"spacing\" textLength=\"18\" x=\"349\" y=\"16.708\">...</text><!--MD5=[2e5a3d3009757c2339f40e553b0ed60f]\ncluster kafka--><polygon fill=\"#FFFFFF\" points=\"16,455.9531,26,445.9531,712,445.9531,712,543.9531,702,553.9531,16,553.9531,16,455.9531\" style=\"stroke:#000000;stroke-width:1.5;\"/><line style=\"stroke:#000000;stroke-width:1.5;\" x1=\"702\" x2=\"712\" y1=\"455.9531\" y2=\"445.9531\"/><line style=\"stroke:#000000;stroke-width:1.5;\" x1=\"16\" x2=\"702\" y1=\"455.9531\" y2=\"455.9531\"/><line style=\"stroke:#000000;stroke-width:1.5;\" x1=\"702\" x2=\"702\" y1=\"455.9531\" y2=\"553.9531\"/><text fill=\"#000000\" font-family=\"sans-serif\" font-size=\"14\" font-weight=\"bold\" lengthAdjust=\"spacing\" textLength=\"45\" x=\"337.5\" y=\"471.9482\">kafka</text><!--MD5=[52e9362092845fba354b39a9fd4b8712]\nentity vDrone_1_in--><path d=\"M45,498.9531 L143,498.9531 C148,498.9531 148,512.1016 148,512.1016 C148,512.1016 148,525.25 143,525.25 L45,525.25 C40,525.25 40,512.1016 40,512.1016 C40,512.1016 40,498.9531 45,498.9531 \" fill=\"#FEFECE\" style=\"stroke:#A80036;stroke-width:1.5;\"/><path d=\"M143,498.9531 C138,498.9531 138,512.1016 138,512.1016 C138,525.25 143,525.25 143,525.25 \" fill=\"none\" style=\"stroke:#A80036;stroke-width:1.5;\"/><text fill=\"#000000\" font-family=\"sans-serif\" font-size=\"14\" lengthAdjust=\"spacing\" textLength=\"88\" x=\"45\" y=\"516.9482\">vDrone_1_in</text><!--MD5=[3435bf67e5d4502464b8b3ff45602d47]\nentity vDrone_1_out--><path d=\"M188.5,498.9531 L297.5,498.9531 C302.5,498.9531 302.5,512.1016 302.5,512.1016 C302.5,512.1016 302.5,525.25 297.5,525.25 L188.5,525.25 C183.5,525.25 183.5,512.1016 183.5,512.1016 C183.5,512.1016 183.5,498.9531 188.5,498.9531 \" fill=\"#FEFECE\" style=\"stroke:#A80036;stroke-width:1.5;\"/><path d=\"M297.5,498.9531 C292.5,498.9531 292.5,512.1016 292.5,512.1016 C292.5,525.25 297.5,525.25 297.5,525.25 \" fill=\"none\" style=\"stroke:#A80036;stroke-width:1.5;\"/><text fill=\"#000000\" font-family=\"sans-serif\" font-size=\"14\" lengthAdjust=\"spacing\" textLength=\"99\" x=\"188.5\" y=\"516.9482\">vDrone_1_out</text><!--MD5=[2f7c369b2fb2c41012783219cb381c1c]\nentity vDrone_2_in--><path d=\"M342.5,498.9531 L439.5,498.9531 C444.5,498.9531 444.5,512.1016 444.5,512.1016 C444.5,512.1016 444.5,525.25 439.5,525.25 L342.5,525.25 C337.5,525.25 337.5,512.1016 337.5,512.1016 C337.5,512.1016 337.5,498.9531 342.5,498.9531 \" fill=\"#FEFECE\" style=\"stroke:#A80036;stroke-width:1.5;\"/><path d=\"M439.5,498.9531 C434.5,498.9531 434.5,512.1016 434.5,512.1016 C434.5,525.25 439.5,525.25 439.5,525.25 \" fill=\"none\" style=\"stroke:#A80036;stroke-width:1.5;\"/><text fill=\"#000000\" font-family=\"sans-serif\" font-size=\"14\" lengthAdjust=\"spacing\" textLength=\"87\" x=\"342.5\" y=\"516.9482\">vDrone_2_in</text><!--MD5=[da119936518f95fa785e228fb02674fd]\nentity vDrone_2_out--><path d=\"M485,498.9531 L593,498.9531 C598,498.9531 598,512.1016 598,512.1016 C598,512.1016 598,525.25 593,525.25 L485,525.25 C480,525.25 480,512.1016 480,512.1016 C480,512.1016 480,498.9531 485,498.9531 \" fill=\"#FEFECE\" style=\"stroke:#A80036;stroke-width:1.5;\"/><path d=\"M593,498.9531 C588,498.9531 588,512.1016 588,512.1016 C588,525.25 593,525.25 593,525.25 \" fill=\"none\" style=\"stroke:#A80036;stroke-width:1.5;\"/><text fill=\"#000000\" font-family=\"sans-serif\" font-size=\"14\" lengthAdjust=\"spacing\" textLength=\"98\" x=\"485\" y=\"516.9482\">vDrone_2_out</text><!--MD5=[487d1032ec5bbf1ad29288baddd77d9f]\nentity kafka_multiple--><rect fill=\"url(#g1tm8r7w7fa5mm0)\" height=\"36.2969\" style=\"stroke:#00000000;stroke-width:1.5;\" width=\"35\" x=\"633.5\" y=\"493.9531\"/><text fill=\"#000000\" font-family=\"sans-serif\" font-size=\"14\" lengthAdjust=\"spacing\" textLength=\"15\" x=\"643.5\" y=\"516.9482\">...</text><!--MD5=[dbc3fdf712471030f0a6672e8da84118]\nentity Drone_Meta_Controller--><polygon fill=\"#FEFECE\" points=\"260.5,41.4531,270.5,31.4531,467.5,31.4531,467.5,67.75,457.5,77.75,260.5,77.75,260.5,41.4531\" style=\"stroke:#000000;stroke-width:1.5;\"/><line style=\"stroke:#000000;stroke-width:1.5;\" x1=\"457.5\" x2=\"467.5\" y1=\"41.4531\" y2=\"31.4531\"/><line style=\"stroke:#000000;stroke-width:1.5;\" x1=\"260.5\" x2=\"457.5\" y1=\"41.4531\" y2=\"41.4531\"/><line style=\"stroke:#000000;stroke-width:1.5;\" x1=\"457.5\" x2=\"457.5\" y1=\"41.4531\" y2=\"77.75\"/><text fill=\"#000000\" font-family=\"sans-serif\" font-size=\"14\" lengthAdjust=\"spacing\" textLength=\"167\" x=\"275.5\" y=\"64.4482\">Drone_Meta_Controller</text><path d=\"M105,26.9531 L105,82.3516 A0,0 0 0 0 105,82.3516 L225,82.3516 A0,0 0 0 0 225,82.3516 L225,58.4531 L260.475,54.4531 L225,50.4531 L225,36.9531 L215,26.9531 L105,26.9531 A0,0 0 0 0 105,26.9531 \" fill=\"#FBFB77\" style=\"stroke:#A80036;stroke-width:1.0;\"/><path d=\"M215,26.9531 L215,36.9531 L225,36.9531 L215,26.9531 \" fill=\"#FBFB77\" style=\"stroke:#A80036;stroke-width:1.0;\"/><text fill=\"#000000\" font-family=\"sans-serif\" font-size=\"13\" lengthAdjust=\"spacing\" textLength=\"99\" x=\"111\" y=\"44.02\">Each drone has</text><text fill=\"#000000\" font-family=\"sans-serif\" font-size=\"13\" lengthAdjust=\"spacing\" textLength=\"84\" x=\"111\" y=\"59.1528\">ClusterIP and</text><text fill=\"#000000\" font-family=\"sans-serif\" font-size=\"13\" lengthAdjust=\"spacing\" textLength=\"59\" x=\"111\" y=\"74.2856\">NodePort</text><!--MD5=[dceb71cab223563bdf0e393d3c17b7d7]\nentity vDrone_1--><polygon fill=\"#FEFECE\" points=\"114,152.9531,124,142.9531,222,142.9531,222,179.25,212,189.25,114,189.25,114,152.9531\" style=\"stroke:#000000;stroke-width:1.5;\"/><line style=\"stroke:#000000;stroke-width:1.5;\" x1=\"212\" x2=\"222\" y1=\"152.9531\" y2=\"142.9531\"/><line style=\"stroke:#000000;stroke-width:1.5;\" x1=\"114\" x2=\"212\" y1=\"152.9531\" y2=\"152.9531\"/><line style=\"stroke:#000000;stroke-width:1.5;\" x1=\"212\" x2=\"212\" y1=\"152.9531\" y2=\"189.25\"/><text fill=\"#000000\" font-family=\"sans-serif\" font-size=\"14\" lengthAdjust=\"spacing\" textLength=\"68\" x=\"129\" y=\"175.9482\">vDrone_1</text><!--MD5=[5f0403f7ebe2993b7b40392e8e4ec5b0]\nentity vDrone_2--><polygon fill=\"#FEFECE\" points=\"257.5,152.9531,267.5,142.9531,364.5,142.9531,364.5,179.25,354.5,189.25,257.5,189.25,257.5,152.9531\" style=\"stroke:#000000;stroke-width:1.5;\"/><line style=\"stroke:#000000;stroke-width:1.5;\" x1=\"354.5\" x2=\"364.5\" y1=\"152.9531\" y2=\"142.9531\"/><line style=\"stroke:#000000;stroke-width:1.5;\" x1=\"257.5\" x2=\"354.5\" y1=\"152.9531\" y2=\"152.9531\"/><line style=\"stroke:#000000;stroke-width:1.5;\" x1=\"354.5\" x2=\"354.5\" y1=\"152.9531\" y2=\"189.25\"/><text fill=\"#000000\" font-family=\"sans-serif\" font-size=\"14\" lengthAdjust=\"spacing\" textLength=\"67\" x=\"272.5\" y=\"175.9482\">vDrone_2</text><!--MD5=[a22c67a73876ce84c40395e687c9d2fb]\nentity vDrone_n--><polygon fill=\"#FEFECE\" points=\"470,152.9531,480,142.9531,578,142.9531,578,179.25,568,189.25,470,189.25,470,152.9531\" style=\"stroke:#000000;stroke-width:1.5;\"/><line style=\"stroke:#000000;stroke-width:1.5;\" x1=\"568\" x2=\"578\" y1=\"152.9531\" y2=\"142.9531\"/><line style=\"stroke:#000000;stroke-width:1.5;\" x1=\"470\" x2=\"568\" y1=\"152.9531\" y2=\"152.9531\"/><line style=\"stroke:#000000;stroke-width:1.5;\" x1=\"568\" x2=\"568\" y1=\"152.9531\" y2=\"189.25\"/><text fill=\"#000000\" font-family=\"sans-serif\" font-size=\"14\" lengthAdjust=\"spacing\" textLength=\"68\" x=\"485\" y=\"175.9482\">vDrone_n</text><!--MD5=[db2ae7d262a944ef7baa8d112e9523a5]\nentity multiple--><rect fill=\"url(#g1tm8r7w7fa5mm0)\" height=\"36.2969\" style=\"stroke:#00000000;stroke-width:1.5;\" width=\"35\" x=\"399.5\" y=\"147.9531\"/><text fill=\"#000000\" font-family=\"sans-serif\" font-size=\"14\" lengthAdjust=\"spacing\" textLength=\"15\" x=\"409.5\" y=\"170.9482\">...</text><!--MD5=[f855680bc6c989572ebb25245d27968d]\nentity Controller--><polygon fill=\"#FEFECE\" points=\"409.5,680.9531,419.5,670.9531,522.5,670.9531,522.5,707.25,512.5,717.25,409.5,717.25,409.5,680.9531\" style=\"stroke:#000000;stroke-width:1.5;\"/><line style=\"stroke:#000000;stroke-width:1.5;\" x1=\"512.5\" x2=\"522.5\" y1=\"680.9531\" y2=\"670.9531\"/><line style=\"stroke:#000000;stroke-width:1.5;\" x1=\"409.5\" x2=\"512.5\" y1=\"680.9531\" y2=\"680.9531\"/><line style=\"stroke:#000000;stroke-width:1.5;\" x1=\"512.5\" x2=\"512.5\" y1=\"680.9531\" y2=\"717.25\"/><text fill=\"#000000\" font-family=\"sans-serif\" font-size=\"14\" lengthAdjust=\"spacing\" textLength=\"73\" x=\"424.5\" y=\"703.9482\">Controller</text><!--MD5=[7d2abd76ffb7fc3a556676faad906bf8]\nlink Drone_Meta_Controller to vDrone_1--><path d=\"M324.336,77.6121 C291.793,95.7931 245.754,121.5141 212.065,140.3351 \" fill=\"none\" id=\"Drone_Meta_Controller-to-vDrone_1\" style=\"stroke:#A80036;stroke-width:1.0;\"/><polygon fill=\"#A80036\" points=\"207.605,142.8271,217.4128,141.929,211.9698,140.3882,213.5106,134.9453,207.605,142.8271\" style=\"stroke:#A80036;stroke-width:1.0;\"/><!--MD5=[e7bca093f62c41f9b590afcd53a30c1d]\nlink Drone_Meta_Controller to vDrone_2--><path d=\"M353.275,77.6121 C344.798,95.1261 332.935,119.6341 323.933,138.2341 \" fill=\"none\" id=\"Drone_Meta_Controller-to-vDrone_2\" style=\"stroke:#A80036;stroke-width:1.0;\"/><polygon fill=\"#A80036\" points=\"321.709,142.8271,329.231,136.4695,323.8877,138.3268,322.0305,132.9835,321.709,142.8271\" style=\"stroke:#A80036;stroke-width:1.0;\"/><!--MD5=[6fc785de4b08eea1e043ba316810a56e]\nlink Drone_Meta_Controller to multiple--><!--MD5=[f4449d218b2df3e03c6eab7734b091f9]\nlink Drone_Meta_Controller to vDrone_n--><path d=\"M396.378,77.6121 C422.728,95.6451 459.915,121.0951 487.353,139.8731 \" fill=\"none\" id=\"Drone_Meta_Controller-to-vDrone_n\" style=\"stroke:#A80036;stroke-width:1.0;\"/><polygon fill=\"#A80036\" points=\"491.67,142.8271,486.5029,134.4425,487.5441,140.0027,481.9839,141.0439,491.67,142.8271\" style=\"stroke:#A80036;stroke-width:1.0;\"/><!--MD5=[c97106b08111920d84dfad09f55e381e]\nreverse link multiple to vDrone_n--><!--MD5=[0052c24e98e2281b6fdd9a6ac0253d6e]\nreverse link vDrone_2 to multiple--><!--MD5=[9b28c0f9873130077177586803270c3f]\nreverse link vDrone_1 to vDrone_2--><!--MD5=[60b97bd1cba25fa421a27645dfdcaece]\nreverse link vDrone_2_out to kafka_multiple--><!--MD5=[80ddc9cb5cb69ce1833bf613006413a4]\nreverse link vDrone_2_in to vDrone_2_out--><!--MD5=[627c2937b90ca282428125ea3f52640f]\nreverse link vDrone_1_out to vDrone_2_in--><!--MD5=[b791f03142f1a8a44bfebffd0326aadd]\nreverse link vDrone_1_in to vDrone_1_out--><!--MD5=[89beb40da710073968d8f9e93e55261b]\nlink vDrone_1 to vDrone_1_in--><path d=\"M131.379,189.1321 C112.341,203.6961 93,224.7051 93,249.9531 C93,249.9531 93,249.9531 93,390.9531 C93,427.4071 93.467,470.0881 93.763,493.4541 \" fill=\"none\" id=\"vDrone_1-to-vDrone_1_in\" style=\"stroke:#A80036;stroke-width:1.0;\"/><polygon fill=\"#A80036\" points=\"93.83,498.6881,97.714,489.6374,93.7657,493.6885,89.7146,489.7403,93.83,498.6881\" style=\"stroke:#A80036;stroke-width:1.0;\"/><text fill=\"#000000\" font-family=\"sans-serif\" font-size=\"13\" lengthAdjust=\"spacing\" textLength=\"79\" x=\"94\" y=\"325.02\">Sensor Data</text><!--MD5=[495338fa36c174c35322aba59d1a0a68]\nlink vDrone_1_out to vDrone_1--><path d=\"M243.17,498.6881 C243.455,476.9711 244,430.3291 244,390.9531 C244,249.9531 244,249.9531 244,249.9531 C244,226.3391 227.061,206.5231 209.177,192.1811 \" fill=\"none\" id=\"vDrone_1_out-to-vDrone_1\" style=\"stroke:#A80036;stroke-width:1.0;\"/><polygon fill=\"#A80036\" points=\"205.109,189.0221,209.7609,197.7031,209.057,192.0902,214.6699,191.3863,205.109,189.0221\" style=\"stroke:#A80036;stroke-width:1.0;\"/><text fill=\"#000000\" font-family=\"sans-serif\" font-size=\"13\" lengthAdjust=\"spacing\" textLength=\"147\" x=\"245\" y=\"325.02\">Position &amp; Speed cmds</text><!--MD5=[c7ec0ff28a832215a29768675d96c09e]\nlink vDrone_1_in to Controller--><!--MD5=[2c57f9cf2e2d408a2ce0c03d646cd4e0]\nlink kafka to Controller--><path d=\"M694.4146,554.0935 C694.2502,554.4732 694.083,554.8519 693.9131,555.2295 C693.5732,555.9848 693.222,556.7358 692.8593,557.4809 C692.1338,558.9712 691.3619,560.4382 690.5408,561.8704 C688.8986,564.7348 687.0594,567.46 685,569.9531 C643.703,619.948 576.49,653.3633 527.402,672.5914 \" fill=\"none\" id=\"kafka-to-Controller\" style=\"stroke:#A80036;stroke-width:1.0;\"/><polygon fill=\"#A80036\" points=\"522.709,674.408,532.5462,674.888,527.3716,672.6024,529.6572,667.4279,522.709,674.408\" style=\"stroke:#A80036;stroke-width:1.0;\"/><!--MD5=[134f890b4617ce1376e6879d9a15ef72]\n@startuml\ntitle ...\n' skinparam handwritten true\ntop to bottom direction\n'skinparam monochrome true\n'skinparam shadowing<<no_shadow>> false\nskinparam shadowing false\n\nhide stereotype\n\nskinparam rectangle<<desc>> {\n    backgroundColor Transparent\n    borderColor Transparent\n    titleFontColor Transparent\n    stereotypeFontColor Transparent\n    ArtifactStereotypeFontColor Transparent\n    ArtifactStereotypeFontSize 10\n}\n\nnode Drone_Meta_Controller\nnote left\n    Each drone has\n    ClusterIP and\n    NodePort\nend note\n\nnode vDrone_1\nnode vDrone_2\nnode vDrone_n\nrectangle multiple<<desc>>  #White/White [\n...]\n\n\nDrone_Meta_Controller -d-> vDrone_1\nDrone_Meta_Controller -d-> vDrone_2\nDrone_Meta_Controller -[hidden]d-> multiple\nDrone_Meta_Controller -d-> vDrone_n\nvDrone_n -[hidden]l-> multiple\nmultiple -[hidden]l-> vDrone_2\nvDrone_2 -[hidden]l-> vDrone_1\n\n\nnode kafka {\n    queue vDrone_1_in\n    queue vDrone_1_out\n    queue vDrone_2_in\n    queue vDrone_2_out\n    rectangle kafka_multiple<<desc>>  #White/White [\n...]\n}\n\nkafka_multiple -[hidden]l-> vDrone_2_out\nvDrone_2_out -[hidden]l-> vDrone_2_in\nvDrone_2_in -[hidden]l-> vDrone_1_out\nvDrone_1_out -[hidden]l-> vDrone_1_in\n\nvDrone_1 - - - -d-> vDrone_1_in : Sensor Data\nvDrone_1_out - - - -d-> vDrone_1 : Position & Speed cmds\n\n\nnode Controller\n\nvDrone_1_in - -[hidden]d-> Controller\nkafka - -d-> Controller\n@enduml\n\n@startuml\ntitle ...\ntop to bottom direction\nskinparam shadowing false\n\nhide stereotype\n\nskinparam rectangle<<desc>> {\n    backgroundColor Transparent\n    borderColor Transparent\n    titleFontColor Transparent\n    stereotypeFontColor Transparent\n    ArtifactStereotypeFontColor Transparent\n    ArtifactStereotypeFontSize 10\n}\n\nnode Drone_Meta_Controller\nnote left\n    Each drone has\n    ClusterIP and\n    NodePort\nend note\n\nnode vDrone_1\nnode vDrone_2\nnode vDrone_n\nrectangle multiple<<desc>>  #White/White [\n...]\n\n\nDrone_Meta_Controller -d-> vDrone_1\nDrone_Meta_Controller -d-> vDrone_2\nDrone_Meta_Controller -[hidden]d-> multiple\nDrone_Meta_Controller -d-> vDrone_n\nvDrone_n -[hidden]l-> multiple\nmultiple -[hidden]l-> vDrone_2\nvDrone_2 -[hidden]l-> vDrone_1\n\n\nnode kafka {\n    queue vDrone_1_in\n    queue vDrone_1_out\n    queue vDrone_2_in\n    queue vDrone_2_out\n    rectangle kafka_multiple<<desc>>  #White/White [\n...]\n}\n\nkafka_multiple -[hidden]l-> vDrone_2_out\nvDrone_2_out -[hidden]l-> vDrone_2_in\nvDrone_2_in -[hidden]l-> vDrone_1_out\nvDrone_1_out -[hidden]l-> vDrone_1_in\n\nvDrone_1 - - - -d-> vDrone_1_in : Sensor Data\nvDrone_1_out - - - -d-> vDrone_1 : Position & Speed cmds\n\n\nnode Controller\n\nvDrone_1_in - -[hidden]d-> Controller\nkafka - -d-> Controller\n@enduml\n\nPlantUML version 1.2021.4beta3(Unknown compile time)\n(GPL source distribution)\nJava Runtime: Java(TM) SE Runtime Environment\nJVM: Java HotSpot(TM) 64-Bit Server VM\nDefault Encoding: UTF-8\nLanguage: en\nCountry: US\n--></g></svg>"
     },
     "metadata": {},
     "output_type": "display_data"
    }
   ],
   "source": [
    "\n",
    "txt = \"\"\"\n",
    "title ...\n",
    "' skinparam handwritten true\n",
    "top to bottom direction\n",
    "'skinparam monochrome true\n",
    "'skinparam shadowing<<no_shadow>> false\n",
    "skinparam shadowing false\n",
    "\n",
    "hide stereotype\n",
    "\n",
    "skinparam rectangle<<desc>> {\n",
    "    backgroundColor Transparent\n",
    "    borderColor Transparent\n",
    "    titleFontColor Transparent\n",
    "    stereotypeFontColor Transparent\n",
    "    ArtifactStereotypeFontColor Transparent\n",
    "    ArtifactStereotypeFontSize 10\n",
    "}\n",
    "\n",
    "node Drone_Meta_Controller\n",
    "note left\n",
    "    Each drone has\n",
    "    ClusterIP and\n",
    "    NodePort\n",
    "end note\n",
    "\n",
    "node vDrone_1\n",
    "node vDrone_2\n",
    "node vDrone_n\n",
    "rectangle multiple<<desc>>  #White/White [\n",
    "...]\n",
    "\n",
    "\n",
    "Drone_Meta_Controller -d-> vDrone_1\n",
    "Drone_Meta_Controller -d-> vDrone_2\n",
    "Drone_Meta_Controller -[hidden]d-> multiple\n",
    "Drone_Meta_Controller -d-> vDrone_n\n",
    "vDrone_n -[hidden]l-> multiple\n",
    "multiple -[hidden]l-> vDrone_2\n",
    "vDrone_2 -[hidden]l-> vDrone_1\n",
    "\n",
    "\n",
    "node kafka {\n",
    "    queue vDrone_1_in\n",
    "    queue vDrone_1_out\n",
    "    queue vDrone_2_in\n",
    "    queue vDrone_2_out\n",
    "    rectangle kafka_multiple<<desc>>  #White/White [\n",
    "...]\n",
    "}\n",
    "\n",
    "kafka_multiple -[hidden]l-> vDrone_2_out\n",
    "vDrone_2_out -[hidden]l-> vDrone_2_in\n",
    "vDrone_2_in -[hidden]l-> vDrone_1_out\n",
    "vDrone_1_out -[hidden]l-> vDrone_1_in\n",
    "\n",
    "vDrone_1 ----d-> vDrone_1_in : Sensor Data\n",
    "vDrone_1_out ----d-> vDrone_1 : Position & Speed cmds\n",
    "\n",
    "\n",
    "node Controller\n",
    "\n",
    "vDrone_1_in --[hidden]d-> Controller\n",
    "kafka --d-> Controller\n",
    "\n",
    " \"\"\"\n",
    "\n",
    "\n",
    "show_plant(txt)\n",
    "\n",
    "\n",
    "\n",
    "\n",
    "\n"
   ],
   "metadata": {
    "collapsed": false,
    "pycharm": {
     "name": "#%%\n"
    }
   }
  }
 ],
 "metadata": {
  "kernelspec": {
   "display_name": "Python 3",
   "language": "python",
   "name": "python3"
  },
  "language_info": {
   "codemirror_mode": {
    "name": "ipython",
    "version": 2
   },
   "file_extension": ".py",
   "mimetype": "text/x-python",
   "name": "python",
   "nbconvert_exporter": "python",
   "pygments_lexer": "ipython2",
   "version": "2.7.6"
  }
 },
 "nbformat": 4,
 "nbformat_minor": 0
}